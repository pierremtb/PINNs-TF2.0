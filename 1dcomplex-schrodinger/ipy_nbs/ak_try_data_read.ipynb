{
 "cells": [
  {
   "cell_type": "code",
   "execution_count": 0,
   "metadata": {
    "application/vnd.databricks.v1+cell": {
     "cellMetadata": {},
     "inputWidgets": {},
     "nuid": "c149e442-315b-4ac7-996b-a4c5e6506021",
     "showTitle": false,
     "title": ""
    }
   },
   "outputs": [],
   "source": [
    "# Databricks notebook source\n",
    "dbutils.library.restartPython()"
   ]
  },
  {
   "cell_type": "code",
   "execution_count": 0,
   "metadata": {
    "application/vnd.databricks.v1+cell": {
     "cellMetadata": {
      "byteLimit": 2048000,
      "rowLimit": 10000
     },
     "inputWidgets": {},
     "nuid": "98e1c396-c47d-4a19-a160-45d49c654543",
     "showTitle": false,
     "title": ""
    }
   },
   "outputs": [],
   "source": [
    "%run ./dummy"
   ]
  },
  {
   "cell_type": "code",
   "execution_count": 0,
   "metadata": {
    "application/vnd.databricks.v1+cell": {
     "cellMetadata": {
      "byteLimit": 2048000,
      "rowLimit": 10000
     },
     "inputWidgets": {},
     "nuid": "99e65041-a655-4c32-a171-914c67630f03",
     "showTitle": false,
     "title": ""
    }
   },
   "outputs": [],
   "source": [
    "print_hi()"
   ]
  },
  {
   "cell_type": "code",
   "execution_count": 0,
   "metadata": {
    "application/vnd.databricks.v1+cell": {
     "cellMetadata": {
      "byteLimit": 2048000,
      "rowLimit": 10000
     },
     "inputWidgets": {},
     "nuid": "2f3aa782-3a9d-4208-919f-50b07c395d1b",
     "showTitle": false,
     "title": ""
    }
   },
   "outputs": [],
   "source": [
    "%run ./../schrodingerutil"
   ]
  },
  {
   "cell_type": "markdown",
   "metadata": {
    "application/vnd.databricks.v1+cell": {
     "cellMetadata": {},
     "inputWidgets": {},
     "nuid": "3108a4a4-1efa-4344-ae19-f37de877e8f3",
     "showTitle": false,
     "title": ""
    }
   },
   "source": [
    "COMMAND ----------"
   ]
  },
  {
   "cell_type": "code",
   "execution_count": 0,
   "metadata": {
    "application/vnd.databricks.v1+cell": {
     "cellMetadata": {},
     "inputWidgets": {},
     "nuid": "aed73e51-35b3-4c71-812d-f1d2d8575a72",
     "showTitle": false,
     "title": ""
    }
   },
   "outputs": [],
   "source": [
    "print('this is a test notebook for AK to try the data read')"
   ]
  },
  {
   "cell_type": "markdown",
   "metadata": {
    "application/vnd.databricks.v1+cell": {
     "cellMetadata": {},
     "inputWidgets": {},
     "nuid": "46a15475-fc58-4952-9795-f8d7d048855b",
     "showTitle": false,
     "title": ""
    }
   },
   "source": [
    "COMMAND ----------"
   ]
  },
  {
   "cell_type": "code",
   "execution_count": 0,
   "metadata": {
    "application/vnd.databricks.v1+cell": {
     "cellMetadata": {},
     "inputWidgets": {},
     "nuid": "b773c646-49ca-4d15-b50b-cb3b0d6b3b6b",
     "showTitle": false,
     "title": ""
    }
   },
   "outputs": [],
   "source": [
    "import sklearn\n",
    "import numpy as np\n",
    "import scipy "
   ]
  },
  {
   "cell_type": "code",
   "execution_count": 0,
   "metadata": {
    "application/vnd.databricks.v1+cell": {
     "cellMetadata": {},
     "inputWidgets": {},
     "nuid": "d2b0f1d6-7394-4d70-b744-e02bd5d7c14a",
     "showTitle": false,
     "title": ""
    }
   },
   "outputs": [],
   "source": [
    "import os, sys\n",
    "from pyDOE import lhs"
   ]
  },
  {
   "cell_type": "code",
   "execution_count": 0,
   "metadata": {
    "application/vnd.databricks.v1+cell": {
     "cellMetadata": {},
     "inputWidgets": {},
     "nuid": "90b95de6-ecdc-462a-bced-413c8c2073db",
     "showTitle": false,
     "title": ""
    }
   },
   "outputs": [],
   "source": [
    "import matplotlib.pyplot as plt"
   ]
  },
  {
   "cell_type": "markdown",
   "metadata": {
    "application/vnd.databricks.v1+cell": {
     "cellMetadata": {},
     "inputWidgets": {},
     "nuid": "132c1c82-ab2e-4d69-a0d2-26f0c883ccf0",
     "showTitle": false,
     "title": ""
    }
   },
   "source": [
    "COMMAND ----------"
   ]
  },
  {
   "cell_type": "code",
   "execution_count": 0,
   "metadata": {
    "application/vnd.databricks.v1+cell": {
     "cellMetadata": {},
     "inputWidgets": {},
     "nuid": "2d17cbef-124b-4bab-a16e-5242afec7aab",
     "showTitle": false,
     "title": ""
    }
   },
   "outputs": [],
   "source": [
    "dbutils."
   ]
  },
  {
   "cell_type": "markdown",
   "metadata": {
    "application/vnd.databricks.v1+cell": {
     "cellMetadata": {},
     "inputWidgets": {},
     "nuid": "e681f5d6-7ccb-41de-9bcf-ace645da5556",
     "showTitle": false,
     "title": ""
    }
   },
   "source": [
    "COMMAND ----------"
   ]
  },
  {
   "cell_type": "markdown",
   "metadata": {
    "application/vnd.databricks.v1+cell": {
     "cellMetadata": {},
     "inputWidgets": {},
     "nuid": "35238b77-8528-4a53-9565-96a7e4399d27",
     "showTitle": false,
     "title": ""
    }
   },
   "source": [
    "MAGIC %run '/Repos/adkiran@redventures.net/recsys_using_nn/1dcomplex-schrodinger/schroschrodingerutil.py'"
   ]
  },
  {
   "cell_type": "markdown",
   "metadata": {
    "application/vnd.databricks.v1+cell": {
     "cellMetadata": {},
     "inputWidgets": {},
     "nuid": "9f9173c6-189c-41b6-a855-fa3b308ba4b5",
     "showTitle": false,
     "title": ""
    }
   },
   "source": [
    "COMMAND ----------"
   ]
  },
  {
   "cell_type": "code",
   "execution_count": 0,
   "metadata": {
    "application/vnd.databricks.v1+cell": {
     "cellMetadata": {},
     "inputWidgets": {},
     "nuid": "8de154f9-7b98-452d-a6ee-34d92be1b1b4",
     "showTitle": false,
     "title": ""
    }
   },
   "outputs": [],
   "source": [
    "from schrodingerutil import prep_data"
   ]
  },
  {
   "cell_type": "markdown",
   "metadata": {
    "application/vnd.databricks.v1+cell": {
     "cellMetadata": {},
     "inputWidgets": {},
     "nuid": "61d28b29-f0a2-43d7-8985-56e737856eb4",
     "showTitle": false,
     "title": ""
    }
   },
   "source": [
    "COMMAND ----------"
   ]
  },
  {
   "cell_type": "code",
   "execution_count": 0,
   "metadata": {
    "application/vnd.databricks.v1+cell": {
     "cellMetadata": {},
     "inputWidgets": {},
     "nuid": "3503e4e7-50de-42d9-90a7-344a64fa8f1b",
     "showTitle": false,
     "title": ""
    }
   },
   "outputs": [],
   "source": [
    "sp.__version__"
   ]
  },
  {
   "cell_type": "markdown",
   "metadata": {
    "application/vnd.databricks.v1+cell": {
     "cellMetadata": {},
     "inputWidgets": {},
     "nuid": "5a0f8abb-884c-44ff-b63c-8ab4da0a4601",
     "showTitle": false,
     "title": ""
    }
   },
   "source": [
    "COMMAND ----------"
   ]
  },
  {
   "cell_type": "markdown",
   "metadata": {
    "application/vnd.databricks.v1+cell": {
     "cellMetadata": {},
     "inputWidgets": {},
     "nuid": "09780b59-bf7d-439f-b5ef-77f4f2546e7e",
     "showTitle": false,
     "title": ""
    }
   },
   "source": [
    "CONSTANTS"
   ]
  },
  {
   "cell_type": "code",
   "execution_count": 0,
   "metadata": {
    "application/vnd.databricks.v1+cell": {
     "cellMetadata": {},
     "inputWidgets": {},
     "nuid": "1012c08b-612b-42eb-b0f8-f781eee088cc",
     "showTitle": false,
     "title": ""
    }
   },
   "outputs": [],
   "source": [
    "eqnPath = '.' #\"1dcomplex-schrodinger\"\n",
    "path = os.path.join(eqnPath, \"data\", \"NLS.mat\")"
   ]
  },
  {
   "cell_type": "code",
   "execution_count": 0,
   "metadata": {
    "application/vnd.databricks.v1+cell": {
     "cellMetadata": {},
     "inputWidgets": {},
     "nuid": "81207586-4eb8-4bac-836f-5bc3578b4b1d",
     "showTitle": false,
     "title": ""
    }
   },
   "outputs": [],
   "source": [
    "hp = {}\n",
    "# Data size on the initial condition solution\n",
    "hp[\"N_0\"] = 50\n",
    "# Collocation points on the boundaries\n",
    "hp[\"N_b\"] = 50\n",
    "# Collocation points on the domain\n",
    "hp[\"N_f\"] = 20000\n",
    "# DeepNN topology (2-sized input [x t], 4 hidden layer of 100-width, 2-sized output [u, v])\n",
    "hp[\"layers\"] = [2, 100, 100, 100, 100, 2]\n",
    "# Setting up the TF SGD-based optimizer (set tf_epochs=0 to cancel it)\n",
    "hp[\"tf_epochs\"] = 200\n",
    "hp[\"tf_lr\"] = 0.05\n",
    "hp[\"tf_b1\"] = 0.99\n",
    "hp[\"tf_eps\"] = 1e-1\n",
    "# Setting up the quasi-newton LBGFS optimizer (set nt_epochs=0 to cancel it)\n",
    "hp[\"nt_epochs\"] = 0\n",
    "hp[\"nt_lr\"] = 1.2\n",
    "hp[\"nt_ncorr\"] = 50\n",
    "hp[\"log_frequency\"] = 10"
   ]
  },
  {
   "cell_type": "code",
   "execution_count": 0,
   "metadata": {
    "application/vnd.databricks.v1+cell": {
     "cellMetadata": {},
     "inputWidgets": {},
     "nuid": "a753c439-73e1-4ba2-b27d-29f0de1885d8",
     "showTitle": false,
     "title": ""
    }
   },
   "outputs": [],
   "source": []
  },
  {
   "cell_type": "code",
   "execution_count": 0,
   "metadata": {
    "application/vnd.databricks.v1+cell": {
     "cellMetadata": {},
     "inputWidgets": {},
     "nuid": "afea0846-48de-4e81-93fe-59c5d204a094",
     "showTitle": false,
     "title": ""
    }
   },
   "outputs": [],
   "source": [
    "path, N_0, N_b, N_f, noise = path, hp[\"N_0\"], hp[\"N_b\"], hp[\"N_f\"], 0.0"
   ]
  },
  {
   "cell_type": "markdown",
   "metadata": {
    "application/vnd.databricks.v1+cell": {
     "cellMetadata": {},
     "inputWidgets": {},
     "nuid": "768adcc6-7f63-4eff-b9aa-36fbe073086a",
     "showTitle": false,
     "title": ""
    }
   },
   "source": [
    "COMMAND ----------"
   ]
  },
  {
   "cell_type": "code",
   "execution_count": 0,
   "metadata": {
    "application/vnd.databricks.v1+cell": {
     "cellMetadata": {},
     "inputWidgets": {},
     "nuid": "123d6d96-622e-4c99-9f6a-02785d9fa8bf",
     "showTitle": false,
     "title": ""
    }
   },
   "outputs": [],
   "source": [
    "print(path)\n",
    "print(f'num initial pts = {N_0}')\n",
    "print(f'num boundary pts = {N_b}')\n",
    "print(f'num interior pts = {N_f}')"
   ]
  },
  {
   "cell_type": "markdown",
   "metadata": {
    "application/vnd.databricks.v1+cell": {
     "cellMetadata": {},
     "inputWidgets": {},
     "nuid": "7f94d8b5-2567-4189-922b-a5db44c6f793",
     "showTitle": false,
     "title": ""
    }
   },
   "source": [
    "COMMAND ----------"
   ]
  },
  {
   "cell_type": "code",
   "execution_count": 0,
   "metadata": {
    "application/vnd.databricks.v1+cell": {
     "cellMetadata": {},
     "inputWidgets": {},
     "nuid": "acba3508-56bd-4731-8ccf-5afdb6c2e9ee",
     "showTitle": false,
     "title": ""
    }
   },
   "outputs": [],
   "source": [
    "data = scipy.io.loadmat(path)"
   ]
  },
  {
   "cell_type": "code",
   "execution_count": 0,
   "metadata": {
    "application/vnd.databricks.v1+cell": {
     "cellMetadata": {},
     "inputWidgets": {},
     "nuid": "e15b7755-c4c4-4a6a-9aad-1758bc487b31",
     "showTitle": false,
     "title": ""
    }
   },
   "outputs": [],
   "source": [
    "t = data['tt'].flatten()[:,None]\n",
    "x = data['x'].flatten()[:,None]\n",
    "Exact = data['uu']\n",
    "Exact_u = np.real(Exact)\n",
    "Exact_v = np.imag(Exact)\n",
    "Exact_h = np.sqrt(Exact_u**2 + Exact_v**2)"
   ]
  },
  {
   "cell_type": "markdown",
   "metadata": {
    "application/vnd.databricks.v1+cell": {
     "cellMetadata": {},
     "inputWidgets": {},
     "nuid": "cdd34c6c-a5d4-4657-a631-95f58b7b6851",
     "showTitle": false,
     "title": ""
    }
   },
   "source": [
    "COMMAND ----------"
   ]
  },
  {
   "cell_type": "code",
   "execution_count": 0,
   "metadata": {
    "application/vnd.databricks.v1+cell": {
     "cellMetadata": {},
     "inputWidgets": {},
     "nuid": "3108dc24-641f-420f-a731-285affb2ef01",
     "showTitle": false,
     "title": ""
    }
   },
   "outputs": [],
   "source": [
    " "
   ]
  },
  {
   "cell_type": "markdown",
   "metadata": {
    "application/vnd.databricks.v1+cell": {
     "cellMetadata": {},
     "inputWidgets": {},
     "nuid": "6be11eb9-94d5-404b-b8ab-4a8ebe3fcd19",
     "showTitle": false,
     "title": ""
    }
   },
   "source": [
    "COMMAND ----------"
   ]
  },
  {
   "cell_type": "code",
   "execution_count": 0,
   "metadata": {
    "application/vnd.databricks.v1+cell": {
     "cellMetadata": {},
     "inputWidgets": {},
     "nuid": "2bbc47c1-9827-4f6a-9017-e8faab3d482f",
     "showTitle": false,
     "title": ""
    }
   },
   "outputs": [],
   "source": [
    "X, T = np.meshgrid(x,t)"
   ]
  },
  {
   "cell_type": "code",
   "execution_count": 0,
   "metadata": {
    "application/vnd.databricks.v1+cell": {
     "cellMetadata": {},
     "inputWidgets": {},
     "nuid": "a552d3c2-f18a-406d-b444-a4202d77fece",
     "showTitle": false,
     "title": ""
    }
   },
   "outputs": [],
   "source": [
    "X_star = np.hstack((X.flatten()[:,None], T.flatten()[:,None]))\n",
    "u_star = Exact_u.T.flatten()[:,None]\n",
    "v_star = Exact_v.T.flatten()[:,None]\n",
    "h_star = Exact_h.T.flatten()[:,None]"
   ]
  },
  {
   "cell_type": "code",
   "execution_count": 0,
   "metadata": {
    "application/vnd.databricks.v1+cell": {
     "cellMetadata": {},
     "inputWidgets": {},
     "nuid": "3df43246-af02-4327-b47d-225a01ba7f13",
     "showTitle": false,
     "title": ""
    }
   },
   "outputs": [],
   "source": [
    "# lb = X_star.min(axis=0)\n",
    "# ub = X_star.max(axis=0) \n",
    "lb = np.array([-5.0, 0.0])\n",
    "ub = np.array([5.0, np.pi/2])"
   ]
  },
  {
   "cell_type": "markdown",
   "metadata": {
    "application/vnd.databricks.v1+cell": {
     "cellMetadata": {},
     "inputWidgets": {},
     "nuid": "2e589be6-ea57-43c1-b407-f2df3580402e",
     "showTitle": false,
     "title": ""
    }
   },
   "source": [
    "##########################"
   ]
  },
  {
   "cell_type": "code",
   "execution_count": 0,
   "metadata": {
    "application/vnd.databricks.v1+cell": {
     "cellMetadata": {},
     "inputWidgets": {},
     "nuid": "4d794ee1-5487-4077-ab6b-69f9703065ea",
     "showTitle": false,
     "title": ""
    }
   },
   "outputs": [],
   "source": [
    "idx_x = np.random.choice(x.shape[0], N_0, replace=False)\n",
    "x0 = x[idx_x,:]\n",
    "u0 = Exact_u[idx_x,0:1]\n",
    "v0 = Exact_v[idx_x,0:1]"
   ]
  },
  {
   "cell_type": "code",
   "execution_count": 0,
   "metadata": {
    "application/vnd.databricks.v1+cell": {
     "cellMetadata": {},
     "inputWidgets": {},
     "nuid": "160eb943-4f88-4bae-b21b-850ae2759c64",
     "showTitle": false,
     "title": ""
    }
   },
   "outputs": [],
   "source": [
    "idx_t = np.random.choice(t.shape[0], N_b, replace=False)\n",
    "tb = t[idx_t,:]"
   ]
  },
  {
   "cell_type": "code",
   "execution_count": 0,
   "metadata": {
    "application/vnd.databricks.v1+cell": {
     "cellMetadata": {},
     "inputWidgets": {},
     "nuid": "c4cc6cdf-4e0e-4e72-8503-2593811a5e56",
     "showTitle": false,
     "title": ""
    }
   },
   "outputs": [],
   "source": [
    "# X0 = np.hstack((x0, tb))\n",
    "X0 = np.concatenate((x0, 0*x0), 1) # (x0, 0)\n",
    "H0 = np.hstack((u0, v0))"
   ]
  },
  {
   "cell_type": "code",
   "execution_count": 0,
   "metadata": {
    "application/vnd.databricks.v1+cell": {
     "cellMetadata": {},
     "inputWidgets": {},
     "nuid": "2b10be57-e850-4084-8263-de3f50358f6b",
     "showTitle": false,
     "title": ""
    }
   },
   "outputs": [],
   "source": [
    "X_f = lb + (ub-lb)*lhs(2, N_f)"
   ]
  },
  {
   "cell_type": "markdown",
   "metadata": {
    "application/vnd.databricks.v1+cell": {
     "cellMetadata": {},
     "inputWidgets": {},
     "nuid": "8aa1e821-2ba7-4038-9d2f-3840540db5fd",
     "showTitle": false,
     "title": ""
    }
   },
   "source": [
    "return x, t, X, T, Exact_u, Exact_v, Exact_h, \\\n",
    "    X_star, u_star, v_star, h_star, X_f, ub, lb, tb, x0, u0, v0, X0, H0"
   ]
  },
  {
   "cell_type": "markdown",
   "metadata": {
    "application/vnd.databricks.v1+cell": {
     "cellMetadata": {},
     "inputWidgets": {},
     "nuid": "9a74b701-2940-40d3-8288-0e88679ffd66",
     "showTitle": false,
     "title": ""
    }
   },
   "source": [
    "COMMAND ----------"
   ]
  },
  {
   "cell_type": "code",
   "execution_count": 0,
   "metadata": {
    "application/vnd.databricks.v1+cell": {
     "cellMetadata": {},
     "inputWidgets": {},
     "nuid": "80c6c6f5-60fc-4610-bf5a-9c1e8962f13f",
     "showTitle": false,
     "title": ""
    }
   },
   "outputs": [],
   "source": [
    "plt.figure(figsize=(15,3))\n",
    "t_init = t.min()\n",
    "plt.scatter(x0, t_init*np.array(x0))\n",
    "plt.title('initial points')\n",
    "plt.grid()"
   ]
  },
  {
   "cell_type": "markdown",
   "metadata": {
    "application/vnd.databricks.v1+cell": {
     "cellMetadata": {},
     "inputWidgets": {},
     "nuid": "837bb08e-d753-47bd-9cbb-2781e8e270ac",
     "showTitle": false,
     "title": ""
    }
   },
   "source": [
    "COMMAND ----------"
   ]
  },
  {
   "cell_type": "code",
   "execution_count": 0,
   "metadata": {
    "application/vnd.databricks.v1+cell": {
     "cellMetadata": {},
     "inputWidgets": {},
     "nuid": "ff46390d-5c27-4b41-8542-d2e75fc554c8",
     "showTitle": false,
     "title": ""
    }
   },
   "outputs": [],
   "source": []
  },
  {
   "cell_type": "markdown",
   "metadata": {
    "application/vnd.databricks.v1+cell": {
     "cellMetadata": {},
     "inputWidgets": {},
     "nuid": "e04c4cef-7ff3-495f-a4df-634d59557875",
     "showTitle": false,
     "title": ""
    }
   },
   "source": [
    "COMMAND ----------"
   ]
  },
  {
   "cell_type": "code",
   "execution_count": 0,
   "metadata": {
    "application/vnd.databricks.v1+cell": {
     "cellMetadata": {},
     "inputWidgets": {},
     "nuid": "c6ab7fcf-3474-4955-9b30-0c830857fd28",
     "showTitle": false,
     "title": ""
    }
   },
   "outputs": [],
   "source": []
  },
  {
   "cell_type": "markdown",
   "metadata": {
    "application/vnd.databricks.v1+cell": {
     "cellMetadata": {},
     "inputWidgets": {},
     "nuid": "6f94f968-e121-4891-9b17-ee188777d681",
     "showTitle": false,
     "title": ""
    }
   },
   "source": [
    "COMMAND ----------"
   ]
  },
  {
   "cell_type": "code",
   "execution_count": 0,
   "metadata": {
    "application/vnd.databricks.v1+cell": {
     "cellMetadata": {},
     "inputWidgets": {},
     "nuid": "c081fd41-f78a-44c4-adcf-9eacce810c70",
     "showTitle": false,
     "title": ""
    }
   },
   "outputs": [],
   "source": []
  }
 ],
 "metadata": {
  "application/vnd.databricks.v1+notebook": {
   "dashboards": [],
   "language": "python",
   "notebookMetadata": {
    "pythonIndentUnit": 4
   },
   "notebookName": "ak_try_data_read",
   "widgets": {}
  },
  "jupytext": {
   "cell_metadata_filter": "-all",
   "formats": "ipynb,py",
   "main_language": "python"
  }
 },
 "nbformat": 4,
 "nbformat_minor": 0
}
