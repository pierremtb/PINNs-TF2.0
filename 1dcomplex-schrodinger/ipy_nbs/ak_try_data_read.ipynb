{
 "cells": [
  {
   "cell_type": "code",
   "execution_count": null,
   "id": "5b159dfe",
   "metadata": {},
   "outputs": [],
   "source": [
    "# Databricks notebook source\n",
    "dbutils.library.restartPython()"
   ]
  },
  {
   "cell_type": "markdown",
   "id": "25c11dec",
   "metadata": {},
   "source": [
    "COMMAND ----------"
   ]
  },
  {
   "cell_type": "code",
   "execution_count": null,
   "id": "488b7ee0",
   "metadata": {},
   "outputs": [],
   "source": [
    "print('this is a test notebook for AK to try the data read')"
   ]
  },
  {
   "cell_type": "markdown",
   "id": "6d991715",
   "metadata": {},
   "source": [
    "COMMAND ----------"
   ]
  },
  {
   "cell_type": "code",
   "execution_count": null,
   "id": "bb1aafb9",
   "metadata": {},
   "outputs": [],
   "source": [
    "import sklearn\n",
    "import numpy as np\n",
    "import scipy "
   ]
  },
  {
   "cell_type": "code",
   "execution_count": null,
   "id": "3a579ae4",
   "metadata": {},
   "outputs": [],
   "source": [
    "import os, sys\n",
    "from pyDOE import lhs"
   ]
  },
  {
   "cell_type": "code",
   "execution_count": null,
   "id": "7233d599",
   "metadata": {},
   "outputs": [],
   "source": [
    "import matplotlib.pyplot as plt"
   ]
  },
  {
   "cell_type": "markdown",
   "id": "d713f16c",
   "metadata": {},
   "source": [
    "COMMAND ----------"
   ]
  },
  {
   "cell_type": "code",
   "execution_count": null,
   "id": "2c57bd4b",
   "metadata": {},
   "outputs": [],
   "source": [
    "dbutils."
   ]
  },
  {
   "cell_type": "markdown",
   "id": "d4180842",
   "metadata": {},
   "source": [
    "COMMAND ----------"
   ]
  },
  {
   "cell_type": "markdown",
   "id": "664071bd",
   "metadata": {},
   "source": [
    "MAGIC %run '/Repos/adkiran@redventures.net/recsys_using_nn/1dcomplex-schrodinger/schroschrodingerutil.py'"
   ]
  },
  {
   "cell_type": "markdown",
   "id": "9f70c2b7",
   "metadata": {},
   "source": [
    "COMMAND ----------"
   ]
  },
  {
   "cell_type": "code",
   "execution_count": null,
   "id": "b0f7537e",
   "metadata": {},
   "outputs": [],
   "source": [
    "from schrodingerutil import prep_data"
   ]
  },
  {
   "cell_type": "markdown",
   "id": "dc1ebb49",
   "metadata": {},
   "source": [
    "COMMAND ----------"
   ]
  },
  {
   "cell_type": "code",
   "execution_count": null,
   "id": "757c2274",
   "metadata": {},
   "outputs": [],
   "source": [
    "sp.__version__"
   ]
  },
  {
   "cell_type": "markdown",
   "id": "7b90085a",
   "metadata": {},
   "source": [
    "COMMAND ----------"
   ]
  },
  {
   "cell_type": "markdown",
   "id": "cb46aa43",
   "metadata": {},
   "source": [
    "CONSTANTS"
   ]
  },
  {
   "cell_type": "code",
   "execution_count": null,
   "id": "a7e270ba",
   "metadata": {},
   "outputs": [],
   "source": [
    "eqnPath = '.' #\"1dcomplex-schrodinger\"\n",
    "path = os.path.join(eqnPath, \"data\", \"NLS.mat\")"
   ]
  },
  {
   "cell_type": "code",
   "execution_count": null,
   "id": "cc7c2d41",
   "metadata": {},
   "outputs": [],
   "source": [
    "hp = {}\n",
    "# Data size on the initial condition solution\n",
    "hp[\"N_0\"] = 50\n",
    "# Collocation points on the boundaries\n",
    "hp[\"N_b\"] = 50\n",
    "# Collocation points on the domain\n",
    "hp[\"N_f\"] = 20000\n",
    "# DeepNN topology (2-sized input [x t], 4 hidden layer of 100-width, 2-sized output [u, v])\n",
    "hp[\"layers\"] = [2, 100, 100, 100, 100, 2]\n",
    "# Setting up the TF SGD-based optimizer (set tf_epochs=0 to cancel it)\n",
    "hp[\"tf_epochs\"] = 200\n",
    "hp[\"tf_lr\"] = 0.05\n",
    "hp[\"tf_b1\"] = 0.99\n",
    "hp[\"tf_eps\"] = 1e-1\n",
    "# Setting up the quasi-newton LBGFS optimizer (set nt_epochs=0 to cancel it)\n",
    "hp[\"nt_epochs\"] = 0\n",
    "hp[\"nt_lr\"] = 1.2\n",
    "hp[\"nt_ncorr\"] = 50\n",
    "hp[\"log_frequency\"] = 10"
   ]
  },
  {
   "cell_type": "code",
   "execution_count": null,
   "id": "cd4e342a",
   "metadata": {},
   "outputs": [],
   "source": []
  },
  {
   "cell_type": "code",
   "execution_count": null,
   "id": "922170d7",
   "metadata": {},
   "outputs": [],
   "source": [
    "path, N_0, N_b, N_f, noise = path, hp[\"N_0\"], hp[\"N_b\"], hp[\"N_f\"], 0.0"
   ]
  },
  {
   "cell_type": "markdown",
   "id": "853b30c9",
   "metadata": {},
   "source": [
    "COMMAND ----------"
   ]
  },
  {
   "cell_type": "code",
   "execution_count": null,
   "id": "768c6119",
   "metadata": {},
   "outputs": [],
   "source": [
    "print(path)\n",
    "print(f'num initial pts = {N_0}')\n",
    "print(f'num boundary pts = {N_b}')\n",
    "print(f'num interior pts = {N_f}')"
   ]
  },
  {
   "cell_type": "markdown",
   "id": "cb6a19fe",
   "metadata": {},
   "source": [
    "COMMAND ----------"
   ]
  },
  {
   "cell_type": "code",
   "execution_count": null,
   "id": "6ac574d6",
   "metadata": {},
   "outputs": [],
   "source": [
    "data = scipy.io.loadmat(path)"
   ]
  },
  {
   "cell_type": "code",
   "execution_count": null,
   "id": "d3d65a28",
   "metadata": {},
   "outputs": [],
   "source": [
    "t = data['tt'].flatten()[:,None]\n",
    "x = data['x'].flatten()[:,None]\n",
    "Exact = data['uu']\n",
    "Exact_u = np.real(Exact)\n",
    "Exact_v = np.imag(Exact)\n",
    "Exact_h = np.sqrt(Exact_u**2 + Exact_v**2)"
   ]
  },
  {
   "cell_type": "markdown",
   "id": "e9c6c312",
   "metadata": {},
   "source": [
    "COMMAND ----------"
   ]
  },
  {
   "cell_type": "code",
   "execution_count": null,
   "id": "ac0e1b09",
   "metadata": {},
   "outputs": [],
   "source": [
    " "
   ]
  },
  {
   "cell_type": "markdown",
   "id": "5774c8c8",
   "metadata": {},
   "source": [
    "COMMAND ----------"
   ]
  },
  {
   "cell_type": "code",
   "execution_count": null,
   "id": "7d2f8e4c",
   "metadata": {},
   "outputs": [],
   "source": [
    "X, T = np.meshgrid(x,t)"
   ]
  },
  {
   "cell_type": "code",
   "execution_count": null,
   "id": "83319ff3",
   "metadata": {},
   "outputs": [],
   "source": [
    "X_star = np.hstack((X.flatten()[:,None], T.flatten()[:,None]))\n",
    "u_star = Exact_u.T.flatten()[:,None]\n",
    "v_star = Exact_v.T.flatten()[:,None]\n",
    "h_star = Exact_h.T.flatten()[:,None]"
   ]
  },
  {
   "cell_type": "code",
   "execution_count": null,
   "id": "6590b22d",
   "metadata": {},
   "outputs": [],
   "source": [
    "# lb = X_star.min(axis=0)\n",
    "# ub = X_star.max(axis=0) \n",
    "lb = np.array([-5.0, 0.0])\n",
    "ub = np.array([5.0, np.pi/2])"
   ]
  },
  {
   "cell_type": "markdown",
   "id": "8e3a8fd7",
   "metadata": {},
   "source": [
    "##########################"
   ]
  },
  {
   "cell_type": "code",
   "execution_count": null,
   "id": "197da559",
   "metadata": {},
   "outputs": [],
   "source": [
    "idx_x = np.random.choice(x.shape[0], N_0, replace=False)\n",
    "x0 = x[idx_x,:]\n",
    "u0 = Exact_u[idx_x,0:1]\n",
    "v0 = Exact_v[idx_x,0:1]"
   ]
  },
  {
   "cell_type": "code",
   "execution_count": null,
   "id": "24da8787",
   "metadata": {},
   "outputs": [],
   "source": [
    "idx_t = np.random.choice(t.shape[0], N_b, replace=False)\n",
    "tb = t[idx_t,:]"
   ]
  },
  {
   "cell_type": "code",
   "execution_count": null,
   "id": "74f75775",
   "metadata": {},
   "outputs": [],
   "source": [
    "# X0 = np.hstack((x0, tb))\n",
    "X0 = np.concatenate((x0, 0*x0), 1) # (x0, 0)\n",
    "H0 = np.hstack((u0, v0))"
   ]
  },
  {
   "cell_type": "code",
   "execution_count": null,
   "id": "e91dc674",
   "metadata": {},
   "outputs": [],
   "source": [
    "X_f = lb + (ub-lb)*lhs(2, N_f)"
   ]
  },
  {
   "cell_type": "markdown",
   "id": "74a22ea3",
   "metadata": {},
   "source": [
    "return x, t, X, T, Exact_u, Exact_v, Exact_h, \\\n",
    "    X_star, u_star, v_star, h_star, X_f, ub, lb, tb, x0, u0, v0, X0, H0"
   ]
  },
  {
   "cell_type": "markdown",
   "id": "7d76b172",
   "metadata": {},
   "source": [
    "COMMAND ----------"
   ]
  },
  {
   "cell_type": "code",
   "execution_count": null,
   "id": "2d9f45a9",
   "metadata": {},
   "outputs": [],
   "source": [
    "plt.figure(figsize=(15,3))\n",
    "t_init = t.min()\n",
    "plt.scatter(x0, t_init*np.array(x0))\n",
    "plt.title('initial points')\n",
    "plt.grid()"
   ]
  },
  {
   "cell_type": "markdown",
   "id": "61558ce5",
   "metadata": {},
   "source": [
    "COMMAND ----------"
   ]
  },
  {
   "cell_type": "code",
   "execution_count": null,
   "id": "412d9dad",
   "metadata": {},
   "outputs": [],
   "source": []
  },
  {
   "cell_type": "markdown",
   "id": "992ab849",
   "metadata": {},
   "source": [
    "COMMAND ----------"
   ]
  },
  {
   "cell_type": "code",
   "execution_count": null,
   "id": "8917ed26",
   "metadata": {},
   "outputs": [],
   "source": []
  },
  {
   "cell_type": "markdown",
   "id": "0d4b0e27",
   "metadata": {},
   "source": [
    "COMMAND ----------"
   ]
  },
  {
   "cell_type": "code",
   "execution_count": null,
   "id": "bb25929e",
   "metadata": {},
   "outputs": [],
   "source": []
  }
 ],
 "metadata": {
  "jupytext": {
   "cell_metadata_filter": "-all",
   "formats": "ipynb,py",
   "main_language": "python"
  }
 },
 "nbformat": 4,
 "nbformat_minor": 5
}
